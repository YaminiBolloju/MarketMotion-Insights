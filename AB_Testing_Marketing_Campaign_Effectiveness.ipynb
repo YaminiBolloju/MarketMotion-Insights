{
  "nbformat": 4,
  "nbformat_minor": 0,
  "metadata": {
    "colab": {
      "private_outputs": true,
      "provenance": [],
      "authorship_tag": "ABX9TyPesdcgkD3k8KOXGBv+WZWJ",
      "include_colab_link": true
    },
    "kernelspec": {
      "name": "python3",
      "display_name": "Python 3"
    },
    "language_info": {
      "name": "python"
    }
  },
  "cells": [
    {
      "cell_type": "markdown",
      "metadata": {
        "id": "view-in-github",
        "colab_type": "text"
      },
      "source": [
        "<a href=\"https://colab.research.google.com/github/RajkumarShenigaram/Marketing-Campaign-Effectiveness/blob/main/AB_Testing_Marketing_Campaign_Effectiveness.ipynb\" target=\"_parent\"><img src=\"https://colab.research.google.com/assets/colab-badge.svg\" alt=\"Open In Colab\"/></a>"
      ]
    },
    {
      "cell_type": "markdown",
      "source": [
        "#A/B testing helps in finding a better approach to finding customers, marketing products, getting a higher reach, or anything that helps a business convert most of its target customers into actual customers.\n",
        "\n",
        "Below are all the features in the dataset:\n",
        "\n",
        "Campaign Name: The name of the campaign  \n",
        "Date: Date of the record\n",
        "Spend: Amount spent on the campaign in dollars\n",
        "of Impressions: Number of impressions the ad crossed through the campaign  \n",
        "Reach: The number of unique impressions received in the ad  \n",
        "of Website Clicks: Number of website clicks received through the ads  \n",
        "of Searches: Number of users who performed searches on the website  \n",
        "of View Content: Number of users who viewed content and products on the website  \n",
        "of Add to Cart: Number of users who added products to the cart  \n",
        "of Purchase: Number of purchases  \n",
        "\n",
        "Two campaigns were performed by the company:\n",
        "\n",
        "Control Campaign  \n",
        "Test Campaign"
      ],
      "metadata": {
        "id": "pvxG4jiqZEU3"
      }
    },
    {
      "cell_type": "code",
      "source": [
        "import pandas as pd\n",
        "import matplotlib.pyplot as plt\n",
        "import seaborn as sns\n",
        "from scipy.stats import mannwhitneyu, ttest_ind, levene, shapiro\n",
        "\n",
        "import warnings\n",
        "warnings.simplefilter('ignore')\n"
      ],
      "metadata": {
        "id": "BuS0QUxDZS-w"
      },
      "execution_count": null,
      "outputs": []
    },
    {
      "cell_type": "markdown",
      "source": [
        "#Importing and combining Control and Test data sets\n",
        "- using a split ddelimiter will change the data types which is verybeneficial. Need to quality assure the data types"
      ],
      "metadata": {
        "id": "kYsBzpuOTjP5"
      }
    },
    {
      "cell_type": "code",
      "source": [
        "import pandas as pd\n",
        "import gdown\n",
        "\n",
        "# File ID from Google Drive link\n",
        "file_id = \"1TSMfQt0yGswOzf4gKn1MitZ21G_j1xml\"\n",
        "url = f\"https://drive.google.com/uc?id={file_id}\"\n",
        "\n",
        "# Download the file\n",
        "output = \"control_group.csv\"\n",
        "gdown.download(url, output, quiet=False)\n",
        "\n",
        "# Read the CSV file into Pandas\n",
        "control_group = pd.read_csv(output, sep =\";\")\n",
        "control_group.info()"
      ],
      "metadata": {
        "id": "yyswI3LbUUtW"
      },
      "execution_count": null,
      "outputs": []
    },
    {
      "cell_type": "markdown",
      "source": [
        "The data types Int and float is as we expect them to be in our analysis, except the date which we will modify in the further steps"
      ],
      "metadata": {
        "id": "TqJCbT9TWeVq"
      }
    },
    {
      "cell_type": "code",
      "source": [
        "control_group.head()"
      ],
      "metadata": {
        "id": "sLM4jVV4WQ5O"
      },
      "execution_count": null,
      "outputs": []
    },
    {
      "cell_type": "code",
      "source": [
        "# File ID from Google Drive link\n",
        "file_id = \"10SANed-I7S1eiW-29u2q3np823r6zo-x\"\n",
        "url = f\"https://drive.google.com/uc?id={file_id}\"\n",
        "\n",
        "# Download the file\n",
        "output = \"test_group.csv\"\n",
        "gdown.download(url, output, quiet=False)\n",
        "\n",
        "# Read the CSV file into Pandas\n",
        "test_group = pd.read_csv(output, sep =\";\")\n",
        "test_group.head()"
      ],
      "metadata": {
        "id": "nybfmlg3UVXi"
      },
      "execution_count": null,
      "outputs": []
    },
    {
      "cell_type": "code",
      "execution_count": null,
      "metadata": {
        "id": "IL66ByNmYcBC"
      },
      "outputs": [],
      "source": [
        "full_df = pd.concat([control_group, test_group], axis=0)"
      ]
    },
    {
      "cell_type": "markdown",
      "source": [
        "#View full dataset"
      ],
      "metadata": {
        "id": "O6qy6M1fT_9W"
      }
    },
    {
      "cell_type": "code",
      "source": [
        "full_df.sample(n=5)"
      ],
      "metadata": {
        "id": "AUcveZbGT-4t"
      },
      "execution_count": null,
      "outputs": []
    },
    {
      "cell_type": "markdown",
      "source": [
        "#Renaming the columns for ease of use"
      ],
      "metadata": {
        "id": "Rrm-H9YVU-nQ"
      }
    },
    {
      "cell_type": "code",
      "source": [
        "# Renaming the columns for ease of use\n",
        "df_renamed = full_df.rename(\n",
        "    columns=lambda x: x.replace(\"# of \", \"\") if x.startswith(\"# of \") else x\n",
        ")\n",
        "df_renamed = df_renamed.rename(columns={\"Campaign Name\": \"Campaign\"})"
      ],
      "metadata": {
        "id": "qSsC5i9vU9nP"
      },
      "execution_count": null,
      "outputs": []
    },
    {
      "cell_type": "code",
      "source": [
        "df_renamed[df_renamed.isnull().any(axis=1)]"
      ],
      "metadata": {
        "id": "_9NjZJBcVSHE"
      },
      "execution_count": null,
      "outputs": []
    },
    {
      "cell_type": "markdown",
      "source": [
        "We have only one row with a missing value, we can delete this as this is as low as 3% in the data. As a best practice 5-10 % is tolerable else we have to go for imputation methods."
      ],
      "metadata": {
        "id": "vNa6eJoaVa2U"
      }
    },
    {
      "cell_type": "code",
      "source": [
        "df_cleaned = df_renamed.dropna()\n",
        "df_cleaned[\"Campaign\"].value_counts()"
      ],
      "metadata": {
        "id": "JySyv2CkVWo8"
      },
      "execution_count": null,
      "outputs": []
    },
    {
      "cell_type": "code",
      "source": [
        "df_cleaned.dtypes"
      ],
      "metadata": {
        "id": "loGZ2lK2V4Ch"
      },
      "execution_count": null,
      "outputs": []
    },
    {
      "cell_type": "markdown",
      "source": [
        "Converting date field type to date format"
      ],
      "metadata": {
        "id": "Y12jETxPZSo7"
      }
    },
    {
      "cell_type": "code",
      "source": [
        "df = df_cleaned.copy()\n",
        "df[\"Date\"] = pd.to_datetime(df[\"Date\"], format=\"%d.%m.%Y\")\n",
        "df[df.select_dtypes(include=[\"float64\"]).columns] = df.select_dtypes(\n",
        "    include=[\"float64\"]\n",
        ").astype(\"int\")\n",
        "\n",
        "df.dtypes"
      ],
      "metadata": {
        "id": "Tv1pUYxtWyQ4"
      },
      "execution_count": null,
      "outputs": []
    },
    {
      "cell_type": "markdown",
      "source": [
        "Checking the data set date range"
      ],
      "metadata": {
        "id": "8f5bddeoZn1Z"
      }
    },
    {
      "cell_type": "code",
      "source": [
        "df[\"Date\"].dt.year.value_counts(), df[\"Date\"].dt.month.value_counts()"
      ],
      "metadata": {
        "id": "5BwL6qXDZk8y"
      },
      "execution_count": null,
      "outputs": []
    },
    {
      "cell_type": "markdown",
      "source": [
        "All of the date is in 8th month of 2019."
      ],
      "metadata": {
        "id": "S0u_a3C_Ztt-"
      }
    },
    {
      "cell_type": "markdown",
      "source": [
        "#Summary of the data"
      ],
      "metadata": {
        "id": "wMT6T1gUaW_V"
      }
    },
    {
      "cell_type": "code",
      "source": [
        "pd.set_option(\"display.max_columns\", None)\n",
        "df.drop(columns=[\"Date\"]).groupby(\"Campaign\").describe()"
      ],
      "metadata": {
        "id": "dFAzE8EdaEqP"
      },
      "execution_count": null,
      "outputs": []
    },
    {
      "cell_type": "markdown",
      "source": [
        "Correlation Analysis"
      ],
      "metadata": {
        "id": "BBiAP5-ragEZ"
      }
    },
    {
      "cell_type": "code",
      "source": [
        "corr_matrix = df.drop(columns=[\"Campaign\", \"Date\"]).corr()\n",
        "sns.heatmap(corr_matrix, annot=True, cmap=\"coolwarm\")"
      ],
      "metadata": {
        "id": "BsFtJt3iaiEC"
      },
      "execution_count": null,
      "outputs": []
    },
    {
      "cell_type": "markdown",
      "source": [
        "1. Ad Spend Has a Weak Impact on Purchases (0.031 correlation) : Increasing spend does not significantly boost sales, suggesting inefficient budget allocation\n",
        "2. Strong Correlation Between Searches & View Content (0.89 correlation) : Users who search engage with content, but many don’t convert to buyers\n",
        "3. Moderate Correlation Between \"Add to Cart\" & Purchases (0.39 correlation) : Cart abandonment is an issue, requiring checkout optimization and retargeting\n",
        "4. Website Clicks Don’t Strongly Convert to Purchases (~0.03 correlation) : Traffic is not leading to sales, so landing pages and CTAs need improvement"
      ],
      "metadata": {
        "id": "6OXk3Z5ZdZ6f"
      }
    },
    {
      "cell_type": "markdown",
      "source": [
        "Distribution Analysis"
      ],
      "metadata": {
        "id": "p8LZ748QfTQU"
      }
    },
    {
      "cell_type": "code",
      "source": [
        "def plot_numeric(func):\n",
        "    fig, axes = plt.subplots(2, 4, figsize=(15, 10))\n",
        "    axes = axes.flatten()\n",
        "\n",
        "    numeric_cols = df.select_dtypes(include=[\"int\"]).columns.to_list()\n",
        "\n",
        "\n",
        "    for i, col in enumerate(numeric_cols):\n",
        "        func(data=df, x=\"Campaign\", y=col, ax=axes[i], hue=\"Campaign\")\n",
        "        axes[i].set_title(col)\n",
        "        axes[i].set_ylabel(\"\")\n",
        "\n",
        "    plt.tight_layout()\n",
        "    plt.show()\n",
        "\n",
        "\n",
        "plot_numeric(sns.violinplot)"
      ],
      "metadata": {
        "id": "ZgeTwyxifSOC"
      },
      "execution_count": null,
      "outputs": []
    },
    {
      "cell_type": "markdown",
      "source": [
        "1️. Test Campaign Shows Lower Variability in Searches & View Content → Users in the Test group are more consistent in engagement, but the range is smaller, suggesting fewer outliers.\n",
        "\n",
        "2️. Higher Spend in the Test Campaign Does Not Clearly Translate to More Purchases → Despite spending more consistently, purchase distributions remain similar, indicating potential inefficiencies in conversion.\n",
        "\n",
        "3️. Control Campaign Has a Higher Spread in Key Metrics (Impressions, Clicks, Add to Cart) → The wider distributions suggest that the Control campaign may be reaching a broader audience, but engagement consistency is lower."
      ],
      "metadata": {
        "id": "w3ZSqki4hQWx"
      }
    },
    {
      "cell_type": "markdown",
      "source": [
        "#Normality tests"
      ],
      "metadata": {
        "id": "QLJFKt1XkFWA"
      }
    },
    {
      "cell_type": "markdown",
      "source": [
        "We use shapiro test since it works well on small data (n < 50)"
      ],
      "metadata": {
        "id": "ss5jw2R2kKJI"
      }
    },
    {
      "cell_type": "code",
      "source": [
        "def check_normality(col, alpha=0.05):\n",
        "    stat, p = shapiro(col)\n",
        "\n",
        "    if p < alpha:\n",
        "        return \"Not Normal\"\n",
        "    return \"Normal\"\n",
        "\n",
        "\n",
        "numeric_cols = df.select_dtypes(include=[\"int\"]).columns.to_list()\n",
        "\n",
        "\n",
        "for col in numeric_cols:\n",
        "    control = df[df[\"Campaign\"] == \"Control Campaign\"][col]\n",
        "    test = df[df[\"Campaign\"] == \"Test Campaign\"][col]\n",
        "    print(\n",
        "        f\"{col}: Control is {check_normality(control)} and Test is {check_normality(test)}\"\n",
        "    )"
      ],
      "metadata": {
        "id": "Vk-fQfA8kERs"
      },
      "execution_count": null,
      "outputs": []
    },
    {
      "cell_type": "markdown",
      "source": [
        "#Hypothesis Testing"
      ],
      "metadata": {
        "id": "W_6s0yRokatb"
      }
    },
    {
      "cell_type": "code",
      "source": [
        "def ab_test(col, alpha=0.05, alt=\"two-sided\"):\n",
        "    control = df[df[\"Campaign\"] == \"Control Campaign\"][col]\n",
        "    test = df[df[\"Campaign\"] == \"Test Campaign\"][col]\n",
        "\n",
        "    if check_normality(control) == \"Normal\" and check_normality(test) == \"Normal\":\n",
        "        stat, p_lev = levene(control, test)\n",
        "        equal_var = p_lev > alpha\n",
        "\n",
        "        stat, p = ttest_ind(control, test, equal_var=equal_var, alternative=alt)\n",
        "    else:\n",
        "        stat, p = mannwhitneyu(control, test, alternative=alt)\n",
        "\n",
        "    conclusion = \"Reject H0\" if p < 0.05 else \"Fail to Reject H0\"\n",
        "    print(f\"{col}: {p} and we {conclusion}\")\n"
      ],
      "metadata": {
        "id": "rEZP-ZQ2kYaZ"
      },
      "execution_count": null,
      "outputs": []
    },
    {
      "cell_type": "markdown",
      "source": [
        "###Spend"
      ],
      "metadata": {
        "id": "HqwHx-Jn26JB"
      }
    },
    {
      "cell_type": "markdown",
      "source": [
        "*Interpretation*: The spend on the test group isn't significantly different from the control.\n",
        "\n",
        "- **Null Hypothesis:** The means of the two campaigns are equal.\n",
        "- **Alternative Hypothesis:** The means of the two campaigns are not equal."
      ],
      "metadata": {
        "id": "I7A2dHHmkYDA"
      }
    },
    {
      "cell_type": "code",
      "source": [
        "ab_test(\"Spend [USD]\", alt=\"two-sided\")"
      ],
      "metadata": {
        "id": "O9gDZ3bp1wRj"
      },
      "execution_count": null,
      "outputs": []
    },
    {
      "cell_type": "markdown",
      "source": [
        "At the 5% significance level, which is greater than the p value, we reject our assumption and the null hypothesis and conclude that **the two campaigns DO NOT have equal means**."
      ],
      "metadata": {
        "id": "XxTx7S4z1xLN"
      }
    },
    {
      "cell_type": "markdown",
      "source": [
        "It seemed like the test campaign could've had more Spend [USD] values, let's make sure that it does.\n",
        "\n",
        "- **Null Hypothesis:** The means of the two campaigns are equal.\n",
        "- **Alternative Hypothesis:** The mean of the test campaign is higher than the control."
      ],
      "metadata": {
        "id": "e9aCwrQN3L4G"
      }
    },
    {
      "cell_type": "code",
      "source": [
        "ab_test(\"Spend [USD]\", alt=\"less\")  # control < test"
      ],
      "metadata": {
        "id": "EL7TYfEj1xuP"
      },
      "execution_count": null,
      "outputs": []
    },
    {
      "cell_type": "markdown",
      "source": [
        "####Conclusion"
      ],
      "metadata": {
        "id": "dGl-JM9E3i_p"
      }
    },
    {
      "cell_type": "markdown",
      "source": [
        "The spend on the test campaign is statistically higher than the control campaign."
      ],
      "metadata": {
        "id": "DwdIbRyz3hmD"
      }
    },
    {
      "cell_type": "markdown",
      "source": [
        "###Purchase"
      ],
      "metadata": {
        "id": "qUrNqoZq3sJ0"
      }
    },
    {
      "cell_type": "markdown",
      "source": [
        "*Interpretation*: There doesn't seem to be a significant difference between the campaigns.\n",
        "\n",
        "- **Null Hypothesis:** There is no difference between the two campaigns with respect to Purchases.\n",
        "- **Alternative Hypothesis:** There Purchases differ between the two campaigns."
      ],
      "metadata": {
        "id": "FVSqj7mL3yvO"
      }
    },
    {
      "cell_type": "code",
      "source": [
        "ab_test(\"Purchase\", alt=\"two-sided\")"
      ],
      "metadata": {
        "id": "LtSmrkYp15TZ"
      },
      "execution_count": null,
      "outputs": []
    },
    {
      "cell_type": "markdown",
      "source": [
        "####Conclusion"
      ],
      "metadata": {
        "id": "RNzYKgEI38AO"
      }
    },
    {
      "cell_type": "markdown",
      "source": [
        "As expected, there is no difference between the two campaigns with respect to Purchases."
      ],
      "metadata": {
        "id": "f6oIpT6v31Kz"
      }
    },
    {
      "cell_type": "markdown",
      "source": [
        "### Impressions and Reach"
      ],
      "metadata": {
        "id": "NvU7u_Xe4Clt"
      }
    },
    {
      "cell_type": "code",
      "source": [
        "ab_test(\"Reach\", alt=\"greater\")  # control > test"
      ],
      "metadata": {
        "id": "Vce_YBAt18EO"
      },
      "execution_count": null,
      "outputs": []
    },
    {
      "cell_type": "code",
      "source": [
        "ab_test(\"Website Clicks\", alt=\"two-sided\")"
      ],
      "metadata": {
        "id": "SF9ZKknL198i"
      },
      "execution_count": null,
      "outputs": []
    },
    {
      "cell_type": "code",
      "source": [
        "ab_test(\"Searches\", alt=\"two-sided\")"
      ],
      "metadata": {
        "id": "lgeh6RGB1__I"
      },
      "execution_count": null,
      "outputs": []
    },
    {
      "cell_type": "code",
      "source": [
        "ab_test(\"Add to Cart\", alt=\"greater\")"
      ],
      "metadata": {
        "id": "2muoKwBi2B7_"
      },
      "execution_count": null,
      "outputs": []
    }
  ]
}